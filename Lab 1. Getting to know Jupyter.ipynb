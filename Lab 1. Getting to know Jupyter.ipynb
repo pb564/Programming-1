{
  "nbformat": 4,
  "nbformat_minor": 0,
  "metadata": {
    "kernelspec": {
      "name": "python3",
      "display_name": "Python 3",
      "language": "python"
    },
    "language_info": {
      "name": "python",
      "version": "3.7.10",
      "mimetype": "text/x-python",
      "codemirror_mode": {
        "name": "ipython",
        "version": 3
      },
      "pygments_lexer": "ipython3",
      "nbconvert_exporter": "python",
      "file_extension": ".py"
    },
    "colab": {
      "name": "Lab 1. Getting to know Jupyter V2.ipynb",
      "provenance": [],
      "collapsed_sections": [],
      "include_colab_link": true
    }
  },
  "cells": [
    
    {
      "cell_type": "markdown",
      "metadata": {
        "id": "ef3RSIsCuFXI"
      },
      "source": [
        "# Lab 1. Getting to know Jupyter"
      ]
    },
    {
      "cell_type": "markdown",
      "metadata": {
        "id": "hp_RV7X_uFXJ"
      },
      "source": [
        "## Welcome to Lab 1. In this lab we will learn how to use Jupyter."
      ]
    },
    {
      "cell_type": "markdown",
      "metadata": {
        "id": "WnN4uVbpuFXJ"
      },
      "source": [
        "### Jupyter is a web-based service that allows you to run code in the cloud. This is quite useful as it allows you to process large datasets using compex algorithms. \n",
        "### Jupyter is the standard approach to conduct data science these days. Everyone is using it !!"
      ]
    },
    {
      "cell_type": "markdown",
      "metadata": {
        "id": "zs30PLgluFXK"
      },
      "source": [
        "#### As depicted in the figure below it all starts with a user and a notebook. \n",
        "#### A Notebook, like the one you are running now, is a set of python commands that are executed sequentially by a Kernel somewhere in the cloud.\n",
        "#### Jupyter is the service that makes sure everything works as intended, formally speaking it is called a Notebook Server."
      ]
    },
    {
      "cell_type": "code",
      "metadata": {
        "colab": {
          "base_uri": "https://localhost:8080/",
          "height": 374
        },
        "id": "xNR5whdguFXK",
        "outputId": "949b19a9-6443-4202-edb0-9a632fdff4d0"
      },
      "source": [
        "from IPython.display import Image\n",
        "Image(\"https://raw.githubusercontent.com/thousandoaks/BEMM458/main/images/notebook_components.png\")"
      ],
      "execution_count": 3,
      "outputs": [
        {
          "output_type": "execute_result",
          "data": {
            "image/png": "[encoded data removed]",
            "text/plain": [
              "<IPython.core.display.Image object>"
            ]
          },
          "metadata": {},
          "execution_count": 3
        }
      ]
    },
    {
      "cell_type": "markdown",
      "metadata": {
        "id": "q8X4u8ZwuFXL"
      },
      "source": [
        "## 1.1. Basic Data Types in Python"
      ]
    },
    {
      "cell_type": "markdown",
      "metadata": {
        "id": "KgUj_6SRuFXL"
      },
      "source": [
        "#### All programming languages, including Python, define types of data that you can use. For instance a number, a string, a list of numbers,etc."
      ]
    },
    {
      "cell_type": "code",
      "metadata": {
        "id": "LxLi4G0guK8J"
      },
      "source": [
        "myIntegerVariable=56"
      ],
      "execution_count": 4,
      "outputs": []
    },
    {
      "cell_type": "code",
      "metadata": {
        "id": "UfrfwMPtuFXL"
      },
      "source": [
        "myFloatVariable=3.141592"
      ],
      "execution_count": 5,
      "outputs": []
    },
    {
      "cell_type": "code",
      "metadata": {
        "colab": {
          "base_uri": "https://localhost:8080/"
        },
        "id": "9PvuEOOYuFXM",
        "outputId": "05bedc75-1d16-4331-e92d-decd375c4d64"
      },
      "source": [
        "myFloatVariable"
      ],
      "execution_count": 6,
      "outputs": [
        {
          "output_type": "execute_result",
          "data": {
            "text/plain": [
              "3.141592"
            ]
          },
          "metadata": {},
          "execution_count": 6
        }
      ]
    },
    {
      "cell_type": "code",
      "metadata": {
        "colab": {
          "base_uri": "https://localhost:8080/"
        },
        "id": "rZNWnFiXuFXM",
        "outputId": "2ed417e0-30bc-42f2-f0e6-dea7afd1a5a7"
      },
      "source": [
        "print(myFloatVariable)"
      ],
      "execution_count": 7,
      "outputs": [
        {
          "output_type": "stream",
          "name": "stdout",
          "text": [
            "3.141592\n"
          ]
        }
      ]
    },
    {
      "cell_type": "code",
      "metadata": {
        "id": "q2kHwR8-uFXM"
      },
      "source": [
        "myStringVariable='Hi there I am on python'"
      ],
      "execution_count": 8,
      "outputs": []
    },
    {
      "cell_type": "code",
      "metadata": {
        "colab": {
          "base_uri": "https://localhost:8080/",
          "height": 35
        },
        "id": "PIKnoIBYuFXM",
        "outputId": "ec00088d-36ee-4c28-d961-3e671dd821e7"
      },
      "source": [
        "myStringVariable"
      ],
      "execution_count": 9,
      "outputs": [
        {
          "output_type": "execute_result",
          "data": {
            "application/vnd.google.colaboratory.intrinsic+json": {
              "type": "string"
            },
            "text/plain": [
              "'Hi there I am on python'"
            ]
          },
          "metadata": {},
          "execution_count": 9
        }
      ]
    },
    {
      "cell_type": "code",
      "metadata": {
        "colab": {
          "base_uri": "https://localhost:8080/"
        },
        "id": "AvnBj9G6uFXN",
        "outputId": "6a0a4bfd-3ad5-442b-a66a-721d1809bd64"
      },
      "source": [
        "print(myStringVariable)"
      ],
      "execution_count": 10,
      "outputs": [
        {
          "output_type": "stream",
          "name": "stdout",
          "text": [
            "Hi there I am on python\n"
          ]
        }
      ]
    },
    {
      "cell_type": "code",
      "metadata": {
        "id": "w8nSBStsuFXN"
      },
      "source": [
        "myFirstList=[3,4,5,6,7]"
      ],
      "execution_count": 11,
      "outputs": []
    },
    {
      "cell_type": "code",
      "metadata": {
        "colab": {
          "base_uri": "https://localhost:8080/"
        },
        "id": "WHE2yllmuFXN",
        "outputId": "b216be8d-bdf7-4753-ebc4-4bd9c1c42b17"
      },
      "source": [
        "myFirstList"
      ],
      "execution_count": 12,
      "outputs": [
        {
          "output_type": "execute_result",
          "data": {
            "text/plain": [
              "[3, 4, 5, 6, 7]"
            ]
          },
          "metadata": {},
          "execution_count": 12
        }
      ]
    },
    {
      "cell_type": "code",
      "metadata": {
        "id": "XG71DDS-uFXO"
      },
      "source": [
        "myFirstMatrix=[['a','b','c'],['d','e','f'],['g','h','i']]"
      ],
      "execution_count": 13,
      "outputs": []
    },
    {
      "cell_type": "code",
      "metadata": {
        "colab": {
          "base_uri": "https://localhost:8080/"
        },
        "id": "KK1QASWfuFXO",
        "outputId": "5032d5a8-70f9-4520-af14-31df00871c39"
      },
      "source": [
        "myFirstMatrix"
      ],
      "execution_count": 14,
      "outputs": [
        {
          "output_type": "execute_result",
          "data": {
            "text/plain": [
              "[['a', 'b', 'c'], ['d', 'e', 'f'], ['g', 'h', 'i']]"
            ]
          },
          "metadata": {},
          "execution_count": 14
        }
      ]
    },
    {
      "cell_type": "code",
      "metadata": {
        "id": "ianoinyIuFXO"
      },
      "source": [
        "mySecondMatrix=[[1,2],[3,4]]"
      ],
      "execution_count": 15,
      "outputs": []
    },
    {
      "cell_type": "code",
      "metadata": {
        "colab": {
          "base_uri": "https://localhost:8080/"
        },
        "id": "nDZ1cUAKuFXO",
        "outputId": "4b26be69-063d-4044-8b88-978c118b8ef4"
      },
      "source": [
        "mySecondMatrix"
      ],
      "execution_count": 16,
      "outputs": [
        {
          "output_type": "execute_result",
          "data": {
            "text/plain": [
              "[[1, 2], [3, 4]]"
            ]
          },
          "metadata": {},
          "execution_count": 16
        }
      ]
    },
    {
      "cell_type": "code",
      "metadata": {
        "id": "bMntVKVhuFXO"
      },
      "source": [
        "myThirdMatrix=[[0,1],[1,0]]"
      ],
      "execution_count": 17,
      "outputs": []
    },
    {
      "cell_type": "code",
      "metadata": {
        "colab": {
          "base_uri": "https://localhost:8080/"
        },
        "id": "y-PR2gCGviol",
        "outputId": "91dbed07-e811-4413-b06f-8b5776fa8f55"
      },
      "source": [
        "myThirdMatrix"
      ],
      "execution_count": 18,
      "outputs": [
        {
          "output_type": "execute_result",
          "data": {
            "text/plain": [
              "[[0, 1], [1, 0]]"
            ]
          },
          "metadata": {},
          "execution_count": 18
        }
      ]
    },
    {
      "cell_type": "code",
      "metadata": {
        "id": "DGazRXhbuFXO"
      },
      "source": [
        "myListofStrings=['Hi there', 'Hola que tal?','Wie gehts', 'Ni hao']"
      ],
      "execution_count": 19,
      "outputs": []
    },
    {
      "cell_type": "code",
      "metadata": {
        "colab": {
          "base_uri": "https://localhost:8080/"
        },
        "id": "ZTj6FfAIuFXO",
        "outputId": "a06ad0b4-9d22-4644-939e-d65ce3f19efe"
      },
      "source": [
        "myListofStrings"
      ],
      "execution_count": 20,
      "outputs": [
        {
          "output_type": "execute_result",
          "data": {
            "text/plain": [
              "['Hi there', 'Hola que tal?', 'Wie gehts', 'Ni hao']"
            ]
          },
          "metadata": {},
          "execution_count": 20
        }
      ]
    },
    {
      "cell_type": "markdown",
      "metadata": {
        "id": "1YQJ6ITCu5-F"
      },
      "source": [
        "#### Refer to the following link for more information:\n",
        "https://realpython.com/python-data-types/"
      ]
    },
    {
      "cell_type": "markdown",
      "metadata": {
        "id": "uBqSzkwjuFXP"
      },
      "source": [
        "## 1.2. Basic Operations in Python"
      ]
    },
    {
      "cell_type": "markdown",
      "metadata": {
        "id": "XTtE050yuSTa"
      },
      "source": [
        "#### Indeed Python allows you to apply operations over the variables you have defined previously"
      ]
    },
    {
      "cell_type": "code",
      "metadata": {
        "colab": {
          "base_uri": "https://localhost:8080/"
        },
        "id": "ghqC9CGbuFXP",
        "outputId": "311411f1-49ed-43b0-9ef0-c46df7a9b1c2"
      },
      "source": [
        "myIntegerVariable+myFloatVariable"
      ],
      "execution_count": 21,
      "outputs": [
        {
          "output_type": "execute_result",
          "data": {
            "text/plain": [
              "59.141592"
            ]
          },
          "metadata": {},
          "execution_count": 21
        }
      ]
    },
    {
      "cell_type": "code",
      "metadata": {
        "colab": {
          "base_uri": "https://localhost:8080/"
        },
        "id": "bzwwkDo5uFXP",
        "outputId": "691eb97f-2ac6-4265-9f1f-c7ceac2084d8"
      },
      "source": [
        "myFloatVariable**2"
      ],
      "execution_count": 22,
      "outputs": [
        {
          "output_type": "execute_result",
          "data": {
            "text/plain": [
              "9.869600294464002"
            ]
          },
          "metadata": {},
          "execution_count": 22
        }
      ]
    },
    {
      "cell_type": "code",
      "metadata": {
        "id": "jEyCcBilus3w"
      },
      "source": [
        ""
      ],
      "execution_count": 22,
      "outputs": []
    },
    {
      "cell_type": "code",
      "metadata": {
        "id": "IBfUbpvTWy0D"
      },
      "source": [
        ""
      ],
      "execution_count": null,
      "outputs": []
    },
    {
      "cell_type": "markdown",
      "metadata": {
        "id": "t3k_Ol3AuFXP"
      },
      "source": [
        "## 1.3. Libraries in Python\n",
        "#### Libraries are pieces of code made by other that we can reuse for our own benefit and productivity\n",
        "#### For instance to compute the logarithm of a number, to multiply matrices, etc."
      ]
    },
    {
      "cell_type": "code",
      "metadata": {
        "id": "-F5zeRgpuFXQ"
      },
      "source": [
        "import math\n",
        "import numpy as np"
      ],
      "execution_count": 23,
      "outputs": []
    },
    {
      "cell_type": "code",
      "metadata": {
        "id": "1y8uRhVKuFXQ"
      },
      "source": [
        ""
      ],
      "execution_count": 23,
      "outputs": []
    },
    {
      "cell_type": "markdown",
      "metadata": {
        "id": "ppcjLX8nxWyY"
      },
      "source": [
        "### Let's compute the logarithm using the math library"
      ]
    },
    {
      "cell_type": "code",
      "metadata": {
        "colab": {
          "base_uri": "https://localhost:8080/"
        },
        "id": "YZJe9pQsxeWP",
        "outputId": "fa94ec55-0571-49a7-8ae8-aaa326ea7be8"
      },
      "source": [
        "math.log(14)"
      ],
      "execution_count": 24,
      "outputs": [
        {
          "output_type": "execute_result",
          "data": {
            "text/plain": [
              "2.6390573296152584"
            ]
          },
          "metadata": {},
          "execution_count": 24
        }
      ]
    },
    {
      "cell_type": "code",
      "metadata": {
        "colab": {
          "base_uri": "https://localhost:8080/"
        },
        "id": "xYwzXNmgxeZG",
        "outputId": "95717d02-da70-4972-fd9d-9d9f74b4f8c7"
      },
      "source": [
        "math.log(myFloatVariable)"
      ],
      "execution_count": 25,
      "outputs": [
        {
          "output_type": "execute_result",
          "data": {
            "text/plain": [
              "1.1447296778052858"
            ]
          },
          "metadata": {},
          "execution_count": 25
        }
      ]
    },
    {
      "cell_type": "code",
      "metadata": {
        "id": "vckpw_Vnxl_s"
      },
      "source": [
        ""
      ],
      "execution_count": 25,
      "outputs": []
    },
    {
      "cell_type": "markdown",
      "metadata": {
        "id": "wl9P7oy0y_NB"
      },
      "source": [
        "#### Refer to the following link for more information:\n",
        "https://docs.python.org/3/library/math.html"
      ]
    },
    {
      "cell_type": "code",
      "metadata": {
        "id": "kY1i8iXmxmCW"
      },
      "source": [
        ""
      ],
      "execution_count": 25,
      "outputs": []
    },
    {
      "cell_type": "code",
      "metadata": {
        "id": "fESNimWRxmEy"
      },
      "source": [
        ""
      ],
      "execution_count": 25,
      "outputs": []
    },
    {
      "cell_type": "markdown",
      "metadata": {
        "id": "Yc6Qx6kwuFXQ"
      },
      "source": [
        "### Let's do some matrix multiplication using numpy"
      ]
    },
    {
      "cell_type": "code",
      "metadata": {
        "id": "ddTl6WrNuFXQ"
      },
      "source": [
        "a = np.array([[1, 0],\n",
        "              [0, 2]])"
      ],
      "execution_count": 26,
      "outputs": []
    },
    {
      "cell_type": "code",
      "metadata": {
        "id": "s0Us_KO8uFXQ"
      },
      "source": [
        "b = np.array([[4, 1],\n",
        "              [2, 2]])"
      ],
      "execution_count": 27,
      "outputs": []
    },
    {
      "cell_type": "code",
      "metadata": {
        "colab": {
          "base_uri": "https://localhost:8080/"
        },
        "id": "jt7lH0zsuFXQ",
        "outputId": "63681b02-fd2b-4d5e-ea90-4ec9824dd10e"
      },
      "source": [
        "np.matmul(a, b)"
      ],
      "execution_count": 28,
      "outputs": [
        {
          "output_type": "execute_result",
          "data": {
            "text/plain": [
              "array([[4, 1],\n",
              "       [4, 4]])"
            ]
          },
          "metadata": {},
          "execution_count": 28
        }
      ]
    },
    {
      "cell_type": "markdown",
      "metadata": {
        "id": "nsMPX8_qzIUf"
      },
      "source": [
        "#### Refer to the following link for more information:\n",
        "https://numpy.org/doc/stable/user/quickstart.html"
      ]
    },
    {
      "cell_type": "code",
      "metadata": {
        "id": "w3rz4GUAuFXQ"
      },
      "source": [
        ""
      ],
      "execution_count": 28,
      "outputs": []
    },
    {
      "cell_type": "code",
      "metadata": {
        "id": "3AzXu2oOxImD"
      },
      "source": [
        ""
      ],
      "execution_count": 28,
      "outputs": []
    },
    {
      "cell_type": "code",
      "metadata": {
        "id": "BWHCq96wxIon"
      },
      "source": [
        ""
      ],
      "execution_count": 28,
      "outputs": []
    },
    {
      "cell_type": "code",
      "metadata": {
        "id": "5WO5JKh7xIrG"
      },
      "source": [
        ""
      ],
      "execution_count": 28,
      "outputs": []
    },
    {
      "cell_type": "code",
      "metadata": {
        "id": "O-fFBi48xIs_"
      },
      "source": [
        ""
      ],
      "execution_count": 28,
      "outputs": []
    },
    {
      "cell_type": "markdown",
      "metadata": {
        "id": "taUX4WEm0hyQ"
      },
      "source": [
        "## 1.4. Visualizations in Python\n",
        "#### Python provides visualization capabilities by way of third party libraries such as matplolib and seaborn"
      ]
    },
    {
      "cell_type": "markdown",
      "metadata": {
        "id": "SzBW9RJvuFXR"
      },
      "source": [
        "### Let's do some plotting using seaborn "
      ]
    },
    {
      "cell_type": "code",
      "metadata": {
        "id": "B9uOb1xM0zmB"
      },
      "source": [
        "import seaborn as sns"
      ],
      "execution_count": 29,
      "outputs": []
    },
    {
      "cell_type": "code",
      "metadata": {
        "id": "qCdoBTeGuFXR"
      },
      "source": [
        "x_values=[0,1,2,3,4,5,6,7,8,9]"
      ],
      "execution_count": 30,
      "outputs": []
    },
    {
      "cell_type": "code",
      "metadata": {
        "id": "PtmP0XnmuFXR"
      },
      "source": [
        "y_values=[1.1,1.2,1.3,2.1,2.2,1.9,1.5,2.2,3.3,4.5]"
      ],
      "execution_count": 31,
      "outputs": []
    },
    {
      "cell_type": "code",
      "metadata": {
        "colab": {
          "base_uri": "https://localhost:8080/",
          "height": 282
        },
        "id": "vuWg7JTNuFXR",
        "outputId": "bf1721b8-8fc6-4a92-cc2f-c2715ea76a36"
      },
      "source": [
        "sns.scatterplot(x=x_values, y=y_values)"
      ],
      "execution_count": 32,
      "outputs": [
        {
          "output_type": "execute_result",
          "data": {
            "text/plain": [
              "<matplotlib.axes._subplots.AxesSubplot at 0x7f3957637f10>"
            ]
          },
          "metadata": {},
          "execution_count": 32
        },
        {
          "output_type": "display_data",
          "data": {
            "image/png": "[encoded data removed]",
            "text/plain": [
              "<Figure size 432x288 with 1 Axes>"
            ]
          },
          "metadata": {
            "needs_background": "light"
          }
        }
      ]
    },
    {
      "cell_type": "code",
      "metadata": {
        "id": "wfAjZpDwuFXR"
      },
      "source": [
        ""
      ],
      "execution_count": 32,
      "outputs": []
    },
    {
      "cell_type": "code",
      "metadata": {
        "colab": {
          "base_uri": "https://localhost:8080/",
          "height": 296
        },
        "id": "kVjtv2CY1K2a",
        "outputId": "db02c36e-622a-41f0-b611-d5699b792bc9"
      },
      "source": [
        "fmri = sns.load_dataset(\"fmri\")\n",
        "\n",
        "# Plot the responses for different events and regions\n",
        "sns.lineplot(x=\"timepoint\", y=\"signal\",\n",
        "             hue=\"region\", style=\"event\",\n",
        "             data=fmri)"
      ],
      "execution_count": 33,
      "outputs": [
        {
          "output_type": "execute_result",
          "data": {
            "text/plain": [
              "<matplotlib.axes._subplots.AxesSubplot at 0x7f3965c10310>"
            ]
          },
          "metadata": {},
          "execution_count": 33
        },
        {
          "output_type": "display_data",
          "data": {
            "image/png": "[encoded data removed]",
            "text/plain": [
              "<Figure size 432x288 with 1 Axes>"
            ]
          },
          "metadata": {
            "needs_background": "light"
          }
        }
      ]
    },
    {
      "cell_type": "code",
      "metadata": {
        "colab": {
          "base_uri": "https://localhost:8080/",
          "height": 297
        },
        "id": "BsFgAj601LnA",
        "outputId": "e4ae3ffa-434b-4bde-c68a-2c341df33e5f"
      },
      "source": [
        "# Load the penguins dataset\n",
        "df = sns.load_dataset(\"penguins\")\n",
        "\n",
        "# Draw a categorical scatterplot to show each observation\n",
        "ax = sns.swarmplot(data=df, x=\"body_mass_g\", y=\"sex\", hue=\"species\")\n",
        "ax.set(ylabel=\"\")"
      ],
      "execution_count": 34,
      "outputs": [
        {
          "output_type": "execute_result",
          "data": {
            "text/plain": [
              "[Text(0, 0.5, '')]"
            ]
          },
          "metadata": {},
          "execution_count": 34
        },
        {
          "output_type": "display_data",
          "data": {
            "image/png": "[encoded data removed]",
            "text/plain": [
              "<Figure size 432x288 with 1 Axes>"
            ]
          },
          "metadata": {
            "needs_background": "light"
          }
        }
      ]
    },
    {
      "cell_type": "code",
      "metadata": {
        "id": "8TgJGM3X1Lp3"
      },
      "source": [
        ""
      ],
      "execution_count": 34,
      "outputs": []
    },
    {
      "cell_type": "markdown",
      "metadata": {
        "id": "OsoaydL1uFXR"
      },
      "source": [
        "## 1.5. Error handling and self support\n",
        "### Quite easy: look on google search for the error message\n",
        "### 95% of the errors are documented on stackoverflow"
      ]
    },
    {
      "cell_type": "code",
      "metadata": {
        "colab": {
          "base_uri": "https://localhost:8080/",
          "height": 164
        },
        "id": "KJgRWv1UuFXS",
        "outputId": "c664f0e5-a0bb-4b25-b99d-7d1d63ac51a4"
      },
      "source": [
        "myprint(variable)"
      ],
      "execution_count": 35,
      "outputs": [
        {
          "output_type": "error",
          "ename": "NameError",
          "evalue": "ignored",
          "traceback": [
            "\u001b[0;31m---------------------------------------------------------------------------\u001b[0m",
            "\u001b[0;31mNameError\u001b[0m                                 Traceback (most recent call last)",
            "\u001b[0;32m<ipython-input-35-5a1b0f5a4156>\u001b[0m in \u001b[0;36m<module>\u001b[0;34m()\u001b[0m\n\u001b[0;32m----> 1\u001b[0;31m \u001b[0mmyprint\u001b[0m\u001b[0;34m(\u001b[0m\u001b[0mvariable\u001b[0m\u001b[0;34m)\u001b[0m\u001b[0;34m\u001b[0m\u001b[0;34m\u001b[0m\u001b[0m\n\u001b[0m",
            "\u001b[0;31mNameError\u001b[0m: name 'myprint' is not defined"
          ]
        }
      ]
    },
    {
      "cell_type": "code",
      "metadata": {
        "colab": {
          "base_uri": "https://localhost:8080/",
          "height": 164
        },
        "id": "H_f8FVWJW0EG",
        "outputId": "348c6ef0-0c19-40e6-e755-154d79f278a6"
      },
      "source": [
        "math.log(-3)"
      ],
      "execution_count": 36,
      "outputs": [
        {
          "output_type": "error",
          "ename": "ValueError",
          "evalue": "ignored",
          "traceback": [
            "\u001b[0;31m---------------------------------------------------------------------------\u001b[0m",
            "\u001b[0;31mValueError\u001b[0m                                Traceback (most recent call last)",
            "\u001b[0;32m<ipython-input-36-986324ee0bdd>\u001b[0m in \u001b[0;36m<module>\u001b[0;34m()\u001b[0m\n\u001b[0;32m----> 1\u001b[0;31m \u001b[0mmath\u001b[0m\u001b[0;34m.\u001b[0m\u001b[0mlog\u001b[0m\u001b[0;34m(\u001b[0m\u001b[0;34m-\u001b[0m\u001b[0;36m3\u001b[0m\u001b[0;34m)\u001b[0m\u001b[0;34m\u001b[0m\u001b[0;34m\u001b[0m\u001b[0m\n\u001b[0m",
            "\u001b[0;31mValueError\u001b[0m: math domain error"
          ]
        }
      ]
    },
    {
      "cell_type": "markdown",
      "metadata": {
        "id": "jkleRCb02DwK"
      },
      "source": [
        "StackOverflow is your best friend when it comes to data science\n",
        "https://stackoverflow.com/"
      ]
    },
    {
      "cell_type": "markdown",
      "metadata": {
        "id": "2dzP_54juFXS"
      },
      "source": [
        "## Some advice: learning how to code takes time and patience, persist and your will prevail !!"
      ]
    }
  ]
}
